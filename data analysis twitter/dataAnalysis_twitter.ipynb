{
 "cells": [
  {
   "cell_type": "markdown",
   "metadata": {},
   "source": [
    "# Formular la pregunta"
   ]
  },
  {
   "cell_type": "markdown",
   "metadata": {},
   "source": [
    "### \"Cuál es la probabilidad que un tweet que se origina dentro de las coordenadas geograficas (-78.31, 0.44, -70.71, 11.39) contenga al menos una ocurrencia de la palabra 'yo' con cualquier composición de acentos y letras minúsculas y mayúsculas.\""
   ]
  },
  {
   "cell_type": "markdown",
   "metadata": {},
   "source": [
    "![](http://mediossociales.es/wp-content/uploads/2012/01/twitter_futbol12.jpg)"
   ]
  },
  {
   "cell_type": "markdown",
   "metadata": {},
   "source": [
    "# Recopilar datos"
   ]
  },
  {
   "cell_type": "code",
   "execution_count": 1,
   "metadata": {},
   "outputs": [],
   "source": [
    "import os\n",
    "\n",
    "import tweepy\n",
    "from tweepy import Stream\n",
    "\n",
    "from stream_listener import FiniteStreamListener"
   ]
  },
  {
   "cell_type": "markdown",
   "metadata": {},
   "source": [
    "### Cargar credenciales"
   ]
  },
  {
   "cell_type": "code",
   "execution_count": 2,
   "metadata": {},
   "outputs": [],
   "source": [
    "CONSUMER_KEY = \"oqjRFuwiRLGD4Kjt650DmbN4C\"\n",
    "CONSUMER_SECRET = \"r3e8Sd3AYKUxEBTGBzOXkA8zjwwTQUU3YOPIkvMjXbAZT6Fc4u\"\n",
    "ACCESS_TOKEN = \"131293960-7OYlqpyEKyz72b7xDpZ3WBzKxAffFY0ieVUCFXIQ\"\n",
    "ACCESS_TOKEN_SECRET = \"85DwbXbCJwSxSlgqSE9IOPpJc1m0unQZdkucKMuQQFuTd\""
   ]
  },
  {
   "cell_type": "code",
   "execution_count": 3,
   "metadata": {},
   "outputs": [
    {
     "data": {
      "text/plain": [
       "'r3e8Sd3AYKUxEBTGBzOXkA8zjwwTQUU3YOPIkvMjXbAZT6Fc4u'"
      ]
     },
     "execution_count": 3,
     "metadata": {},
     "output_type": "execute_result"
    }
   ],
   "source": [
    "CONSUMER_SECRET"
   ]
  },
  {
   "cell_type": "code",
   "execution_count": 4,
   "metadata": {},
   "outputs": [],
   "source": [
    "COLOMBIA_GEO_LOCATION_BOUNDING_BOX = [-78.31, 0.44, -70.71, 11.39]\n",
    "NUMBER_OF_TWEETS = 100"
   ]
  },
  {
   "cell_type": "code",
   "execution_count": 5,
   "metadata": {},
   "outputs": [],
   "source": [
    "#Creamos una instancia de tweepy, para enviarle las credenciales de mi app\n",
    "auth = tweepy.OAuthHandler(CONSUMER_KEY, CONSUMER_SECRET)\n",
    "auth.set_access_token(ACCESS_TOKEN, ACCESS_TOKEN_SECRET)\n",
    "api = tweepy.API(auth)"
   ]
  },
  {
   "cell_type": "code",
   "execution_count": 6,
   "metadata": {},
   "outputs": [
    {
     "data": {
      "text/plain": [
       "<tweepy.api.API at 0xb188420c>"
      ]
     },
     "execution_count": 6,
     "metadata": {},
     "output_type": "execute_result"
    }
   ],
   "source": [
    "api"
   ]
  },
  {
   "cell_type": "markdown",
   "metadata": {},
   "source": [
    "### Establecer una conexión al API de Twitter"
   ]
  },
  {
   "cell_type": "code",
   "execution_count": 7,
   "metadata": {},
   "outputs": [],
   "source": [
    "#Creamos una isntancia  de la clase FiniteStreamListener, y le enviamos como parametro el numero de tweets que queremos obtener, esto nos permitira setear los valores que necesitamos para establecer una conexion al API de Tw\n",
    "\n",
    "finite_stream_listener = FiniteStreamListener(number_of_tweets=NUMBER_OF_TWEETS)\n",
    "#leer documentacion de twitter\n",
    "streaming_api = Stream(auth=auth, listener=finite_stream_listener)"
   ]
  },
  {
   "cell_type": "markdown",
   "metadata": {},
   "source": [
    "### Sorber del firehouse"
   ]
  },
  {
   "cell_type": "code",
   "execution_count": 9,
   "metadata": {},
   "outputs": [],
   "source": [
    "#crea un filtro para la obtencion de tweets, el filtro de la localizacion\n",
    "streaming_api.filter(locations=COLOMBIA_GEO_LOCATION_BOUNDING_BOX)"
   ]
  },
  {
   "cell_type": "markdown",
   "metadata": {},
   "source": [
    "# Limpiar datos"
   ]
  },
  {
   "cell_type": "code",
   "execution_count": 11,
   "metadata": {},
   "outputs": [],
   "source": [
    "from unidecode import unidecode"
   ]
  },
  {
   "cell_type": "markdown",
   "metadata": {},
   "source": [
    "### Definir funciones de limpieza"
   ]
  },
  {
   "cell_type": "code",
   "execution_count": 88,
   "metadata": {},
   "outputs": [],
   "source": [
    "#coloca todo en minusculas\n",
    "def make_lowercase(tweet):\n",
    "    return tweet.lower()\n",
    "\n",
    "#elimina los acentos\n",
    "def remove_diacritics(tweet):\n",
    "    return unidecode(tweet)\n",
    "\n",
    "#dejar solo los caracteres del alfabeto, quitar numeros, sin puntuacion ni signos!\n",
    "def remove_non_alpha_characters(tweet):\n",
    "    return ''.join(character for character in tweet if character.isalpha() or character == ' ' or character == ' \\n ' or character == '@')"
   ]
  },
  {
   "cell_type": "markdown",
   "metadata": {},
   "source": [
    "### Aplicar las funciones"
   ]
  },
  {
   "cell_type": "code",
   "execution_count": 90,
   "metadata": {},
   "outputs": [],
   "source": [
    "cleaned_tweets = list(finite_stream_listener.tweets)\n",
    "\n",
    "for cleaning_function in [make_lowercase,remove_diacritics,  remove_non_alpha_characters]:\n",
    "    cleaned_tweets = [cleaning_function(tweet) for tweet in cleaned_tweets]"
   ]
  },
  {
   "cell_type": "code",
   "execution_count": 91,
   "metadata": {},
   "outputs": [
    {
     "data": {
      "text/plain": [
       "['ataques ataques  httpstcoicmqtqmi',\n",
       " '@saraluna mk que viajecito a diario',\n",
       " '@fderecha @alexbernalradio @petrogustavo @moisesalvaro @gustavobolivar @intiasprilla @danmedina @cloquis @ismene httpstcoapnrsugu',\n",
       " '@gatamadurasw hola tuu gata',\n",
       " 'hachas en piedra  guadua y cuero   y   en sesquile httpstcokdvljhb',\n",
       " 'que linda te vesintentando entre tus anhelos verque linda te vesen mis brazos otra vezfelizmiercoles httpstcovmouhlfy',\n",
       " 'no siento emociones ni temblores',\n",
       " 'divina te mando un abrazo super fuerte  httpstcofrewstl',\n",
       " '@aspasiasegunda tal cual ayer de medias nueves me comi un strudel y una taza de chocolate caliente que groseria httpstcoggejst',\n",
       " 'i dont ever want to feel like i did that daytake me to the place i love take me all the way at le httpstcospevvejx',\n",
       " 'nomaslosmismosdesiempre httpstcomzjkogwv',\n",
       " ' felizmiercoles httpstcoaimyhczzs',\n",
       " '@asodeporcali @orsomarsosc que vaina con este equipo',\n",
       " 'dificil esconder el cuerpo httpstcoipjjhvex',\n",
       " 'super confiteria rr trabaja para ti te esperamos de lunes a viernes am a pm  pm a pm  httpstcofjqtjctih',\n",
       " 'yo no se como hago para no respondergorda su madre hijueputa malparido a un desconocido cuando me diceole gordo',\n",
       " '@fercalderon @pinneaple @lindignada @alejogg jajajajajajajajaja muy buena',\n",
       " 'entrega de cajas @clapoficial en el sector la aduana de barcelonaguardia del pueblo lealtad revolucionaria y com httpstcoplerzrizuc',\n",
       " 'otra vez  httpstcofmqujkcz',\n",
       " 'muchas veces siento una perdida de tiempo dedicarle interes a las personas',\n",
       " 'sistema de facturacion electronica transformacion de factura en papel a facturacion digital cumpliendo con los es httpstcomwlxwgylo',\n",
       " '@julianaaguirre si te refieres a mis grillas nada tiene que ver eso aca',\n",
       " 'metoo yotambien  fb httpstcofyhjsuks',\n",
       " 'hoy comienza el carnaval en losyotuve esta noche  de la noche con lilli colombia  lucho httpstcodionxvys',\n",
       " '@karolsevilla la vas a romper reina  @karolsevilla ',\n",
       " 'que amor tan grande en tan pequena vidaque poca vida para tanto amor             alfredo gomez jaime',\n",
       " 'otro dia que dios me regala pa seguir dedicandole tiempo a mi instrumentonecesito un masaje y saludes jejeje httpstconqpxvjuor',\n",
       " 'que mejor testimonio que este jovenesconfuturo httpstcofbizxsfsi',\n",
       " ' httpstcowbhovsacqv',\n",
       " 'vai um bonde pesado pra esse bloquinho sabado kkkkkkk segura a tropa',\n",
       " '@albaybonne hola bela tudo bem querida',\n",
       " '@hapmfc y yo cuando recargamos el abono  httpstcoslyegezevl',\n",
       " '@barrioskm @cristiandanovic ',\n",
       " '@medialegal thank you for the follow',\n",
       " '@hollmanmorris y penalosa bien gracias',\n",
       " 'buscas software contable en la nube aqui te recomendamos las mejores opciones del mercado solucion de gestion ad httpstcoadusihmj',\n",
       " 'segundo sismo en azuero en una semana ojo que hace  anos hubo un terremoto de relevancia',\n",
       " 'me llamo alejandra porque mi mama desde su balcon escuchaba a unos ninos jugar y gritaron alejandraaa y le gusto httpstcoasbeldjro',\n",
       " 'la experiencia de peru plataformas de concentracion en el establecimiento de redes de innovacion orientadas a la c httpstcoswvkndkac',\n",
       " '@karolsevilla la mejor fan de luna la mas hermosa ',\n",
       " '@barranquillacptvestida de lluvia de oro @vabuchaiber recorrera el desfile del @carnavaldeninos httpstcoufqxtowh',\n",
       " 'lentes httpstcoqsacaa prendedor @firestudiostore panoleta @bershka basica @geffrance httpstcogirocvcyx',\n",
       " 'las extrano mucho amigas mias loveyou @paulacastillo @julyromero @astriddaga',\n",
       " 'mira los beneficios que tienen los otros equipos para sus abonados anal metio los  partidos de libertadores y la httpstcozavxfiqsmg',\n",
       " '@ccecb cual es la diferecia si la derecha nos a gobernado por tada la historia poli de colombia y lo unic httpstcozhacovgyea',\n",
       " '@schneiderbryan @jeffertri digale a jeffer que si desde las  esta',\n",
       " '@muneloveglim @alihusseinelhel @palestinebs  httpstcoicfahkes',\n",
       " '@gabygarrid aqui en panama ya te vere por ahi en las redes con fotos tomadas desde drones o con zoom y la gente httpstcoypptetceg',\n",
       " 'en este tiempo me di cuenta de que la vida sin ti sigue pero carece de todo sentidonada es igual',\n",
       " 'copa el gran sol httpstcojeauqqel',\n",
       " 'ya eres el movimiento de otra naranja ',\n",
       " 'manejando el bajo perfil',\n",
       " 'jamas provoquen lagrimas en un rostro que te ha regalado sus mejores sonrisas',\n",
       " '@yeswomensntwk thank you for the follow',\n",
       " '@noticiascaracol mientras este dictador se dedica a bailar y burlarse del pueblo hambriento santos construye un pais en paz y oportunidades',\n",
       " 'usted dejeme de seguir que asco los tipos pasivos httpstcoqaicxfepp',\n",
       " '@kpoboss soy un ser de luz camilo jajajaja la luz de adelante es la que brilla',\n",
       " '@kevinaariasc si jajajajajaja',\n",
       " '@juaoedoardo iae comandante do grupo kk',\n",
       " 'menosimpuestosmassalario  estoy comprometido con la transformacion social que necesita nuestro pais httpstcojovaixglu',\n",
       " 'me rn httpstcokkjtwucx',\n",
       " 'were hiring click to apply technical support analyst ii  roaming  httpstcooyefipmr software dev httpstcoyhhvmaql',\n",
       " '@camcoelectronic camara colombiana de comercio electronico es una entidad gremial que tiene como proposito consolid httpstcoyhfkon',\n",
       " 'esto es demasiado preocupantes  httpstcogtrdrhwpd',\n",
       " '@gylatetis estas rica',\n",
       " 'jajajaja en soledad los desleales trafugas httpstcoiiajkulgn',\n",
       " ' httpstcoyiqnhvrmt',\n",
       " 'estaba tan cabreada en mi trabajo que no senti nada lastima porque lo primero que hubiera hecho es prender estos exp ',\n",
       " 'este es el proyecto para el que lo van a contratar @chaco  jajaja httpstcoeqzuapzrv',\n",
       " 'en el sitio juncal de aguachica del cesar fue hallada la avioneta de la empresa aerogalan robada por presuntos gu httpstcofizxzvgrc',\n",
       " '@karolsevilla la mejor fan la primera en llegar jejeje ',\n",
       " 'no importa cuantas veces borre las fotos siempre termino con el celular lleno de sus nudes y me encanta',\n",
       " ' httpstcougeudoeyg',\n",
       " 'giroud al chelsea noooooooo por que no otro equipo ',\n",
       " 'nomaslosmismosdesiempre httpstcouqrmbik',\n",
       " 'planta de lacteos by construargo  laminado  anos de garantia httpstcouslexcthp',\n",
       " 'ya que ayer me vi la peliculaaceptamos el amor que creemos merecer',\n",
       " '@pipesierrar ',\n",
       " ' doctora  maria luisa piraquive  lider mundial ministerio artistico  arkangel  la era del sol union congr httpstcootswdzrh',\n",
       " 'ya llegara el dia que entre en asistolia y hay me van a extranar ',\n",
       " '@eyleensobenis hace minutos dos veces',\n",
       " 'maduro quiere tapar su trabajo de gran estafador nacional mostrandose  como don regalon  rodeado de mendigos',\n",
       " '@diegonoticia que bueno ojala alli coja la titularidad para llegar al mundial en forma',\n",
       " 'me amarga discutir con mi mama  despues no tengo con quien hablar ',\n",
       " 'temblo y otra vez no me di cuenta',\n",
       " 'con esta cancion cantores killeros repudian atentados en barranquilla  el heraldo httpstcopuqbrqr via @elheraldoco',\n",
       " 'definitivamente necesito una moto ',\n",
       " '@jsanchezcristo si thewall debuto con  pts pero vaya lea el ht thewall que programa tan aburridor por los concu httpstcozuhlgsiwb',\n",
       " 'no lo senti',\n",
       " 'alone in the dark  will cookson',\n",
       " 'hay personas flacas que comen mucho pero no engordan',\n",
       " '@comitecafevalle rindio homenaje y reconocimiento postumo a oscar jaramillo zuluaga exdirector ejecutivo del comi httpstcocmngojyrdi',\n",
       " '@lvpibai ',\n",
       " 'jajajajajajajajaja httpstcokytmpfq',\n",
       " 'la gente porque intenta hablarme que no me ven mi cara de pocos amigos de no me interesa hablarte',\n",
       " 'o perigosissimocondenadodajustissabrasileira nao para de subir nas pesquisas presidenciaiscreio que agora so na paulada viu',\n",
       " 'sera el fin del hombre arana ',\n",
       " '@wmbedoya @asodeporcali no tengo esa informacion amigo',\n",
       " 'mi hijq es la mejor inversion del mundo',\n",
       " '@iamcattsadler @people yes ']"
      ]
     },
     "execution_count": 91,
     "metadata": {},
     "output_type": "execute_result"
    }
   ],
   "source": [
    "#Tweets sin limpieza de datos:\n",
    "#finite_stream_listener.tweets\n",
    "\n",
    "#Tweets con la limpieza de datos:\n",
    "cleaned_tweets\n"
   ]
  },
  {
   "cell_type": "markdown",
   "metadata": {},
   "source": [
    "# Dormir con tus datos"
   ]
  },
  {
   "cell_type": "code",
   "execution_count": 92,
   "metadata": {},
   "outputs": [],
   "source": [
    "#%matplotlib inline\n",
    "\n",
    "from pprint import pprint\n",
    "import pandas as pd"
   ]
  },
  {
   "cell_type": "code",
   "execution_count": 93,
   "metadata": {},
   "outputs": [],
   "source": [
    "KEYWORD = ' yo '"
   ]
  },
  {
   "cell_type": "markdown",
   "metadata": {},
   "source": [
    "### Primeros 10 tweets"
   ]
  },
  {
   "cell_type": "code",
   "execution_count": 94,
   "metadata": {},
   "outputs": [
    {
     "name": "stdout",
     "output_type": "stream",
     "text": [
      "['ataques ataques  httpstcoicmqtqmi',\n",
      " '@saraluna mk que viajecito a diario',\n",
      " '@fderecha @alexbernalradio @petrogustavo @moisesalvaro @gustavobolivar '\n",
      " '@intiasprilla @danmedina @cloquis @ismene httpstcoapnrsugu',\n",
      " '@gatamadurasw hola tuu gata',\n",
      " 'hachas en piedra  guadua y cuero   y   en sesquile httpstcokdvljhb',\n",
      " 'que linda te vesintentando entre tus anhelos verque linda te vesen mis '\n",
      " 'brazos otra vezfelizmiercoles httpstcovmouhlfy',\n",
      " 'no siento emociones ni temblores',\n",
      " 'divina te mando un abrazo super fuerte  httpstcofrewstl',\n",
      " '@aspasiasegunda tal cual ayer de medias nueves me comi un strudel y una '\n",
      " 'taza de chocolate caliente que groseria httpstcoggejst',\n",
      " 'i dont ever want to feel like i did that daytake me to the place i love '\n",
      " 'take me all the way at le httpstcospevvejx']\n"
     ]
    }
   ],
   "source": [
    "pprint(cleaned_tweets[:10])"
   ]
  },
  {
   "cell_type": "markdown",
   "metadata": {},
   "source": [
    "### ¿Cuantas veces aparece la palabra clave?"
   ]
  },
  {
   "cell_type": "code",
   "execution_count": 68,
   "metadata": {},
   "outputs": [
    {
     "name": "stdout",
     "output_type": "stream",
     "text": [
      "Nuestra palabra clave aparece: 1 veces\n"
     ]
    }
   ],
   "source": [
    "#Construimos un genertaed compl\n",
    "number_of_occurences = sum(KEYWORD in tweet for tweet in cleaned_tweets)\n",
    "print('Nuestra palabra clave aparece: {} veces'.format(number_of_occurences))"
   ]
  },
  {
   "cell_type": "markdown",
   "metadata": {},
   "source": [
    "### ¿Con cual frecuencia apareció?"
   ]
  },
  {
   "cell_type": "code",
   "execution_count": 95,
   "metadata": {},
   "outputs": [
    {
     "name": "stdout",
     "output_type": "stream",
     "text": [
      "'Nuestra palabra clave apareció en: 1.0% de los tweets'\n"
     ]
    }
   ],
   "source": [
    "pprint('Nuestra palabra clave apareció en: {}% de los tweets'.format(100 * number_of_occurences/NUMBER_OF_TWEETS))"
   ]
  },
  {
   "cell_type": "markdown",
   "metadata": {},
   "source": [
    "### ¿Cómo son los tweets que la contienen?"
   ]
  },
  {
   "cell_type": "code",
   "execution_count": 96,
   "metadata": {},
   "outputs": [
    {
     "name": "stdout",
     "output_type": "stream",
     "text": [
      "['@hapmfc y yo cuando recargamos el abono  httpstcoslyegezevl']\n"
     ]
    }
   ],
   "source": [
    "pprint([tweet for tweet in cleaned_tweets if KEYWORD in tweet])"
   ]
  },
  {
   "cell_type": "markdown",
   "metadata": {},
   "source": [
    "### ¿Cuál es la distancia promedia entre ocurrencias consecutivas?"
   ]
  },
  {
   "cell_type": "code",
   "execution_count": 97,
   "metadata": {},
   "outputs": [],
   "source": [
    "#es decir cada cuantos tweets de los obtenidos, aparecio la palabra\n",
    "#paso 1, enumerar los tweets\n",
    "indices_of_tweets_containing_keyword = [index for index, tweet in enumerate(cleaned_tweets) if KEYWORD in tweet]"
   ]
  },
  {
   "cell_type": "code",
   "execution_count": 41,
   "metadata": {},
   "outputs": [
    {
     "data": {
      "text/plain": [
       "[15, 22, 23, 31, 33, 42, 53]"
      ]
     },
     "execution_count": 41,
     "metadata": {},
     "output_type": "execute_result"
    }
   ],
   "source": [
    "indices_of_tweets_containing_keyword"
   ]
  },
  {
   "cell_type": "code",
   "execution_count": 42,
   "metadata": {},
   "outputs": [],
   "source": [
    "#computamos las distancias entre cada uno de los numerosde los indices de los tweets\n",
    "distances_between_indices_of_tweets_containing_keyword = [\n",
    "    second_index - first_index for first_index, second_index in \\\n",
    "        zip(indices_of_tweets_containing_keyword[:-1], indices_of_tweets_containing_keyword[1:])\n",
    "]"
   ]
  },
  {
   "cell_type": "code",
   "execution_count": 43,
   "metadata": {},
   "outputs": [
    {
     "ename": "NameError",
     "evalue": "name 'pd' is not defined",
     "output_type": "error",
     "traceback": [
      "\u001b[0;31m---------------------------------------------------------------------------\u001b[0m",
      "\u001b[0;31mNameError\u001b[0m                                 Traceback (most recent call last)",
      "\u001b[0;32m<ipython-input-43-4db6c2232a6a>\u001b[0m in \u001b[0;36m<module>\u001b[0;34m()\u001b[0m\n\u001b[0;32m----> 1\u001b[0;31m \u001b[0mpd\u001b[0m\u001b[0;34m.\u001b[0m\u001b[0mSeries\u001b[0m\u001b[0;34m(\u001b[0m\u001b[0mdistances_between_indices_of_tweets_containing_keyword\u001b[0m\u001b[0;34m)\u001b[0m\u001b[0;34m.\u001b[0m\u001b[0mhist\u001b[0m\u001b[0;34m(\u001b[0m\u001b[0;34m)\u001b[0m\u001b[0;34m\u001b[0m\u001b[0m\n\u001b[0m",
      "\u001b[0;31mNameError\u001b[0m: name 'pd' is not defined"
     ]
    }
   ],
   "source": [
    "#creamos un grafico con matplot para representarlo graficamente\n",
    "pd.Series(distances_between_indices_of_tweets_containing_keyword).hist()"
   ]
  },
  {
   "cell_type": "markdown",
   "metadata": {},
   "source": [
    "# Construir un modelo"
   ]
  },
  {
   "cell_type": "code",
   "execution_count": 8,
   "metadata": {
    "collapsed": true
   },
   "outputs": [],
   "source": [
    "import matplotlib.pyplot as plt\n",
    "import numpy as np\n",
    "from scipy.stats import beta as beta_distribution"
   ]
  },
  {
   "cell_type": "markdown",
   "metadata": {},
   "source": [
    "### Definir los parámetros de un Beta Distribution"
   ]
  },
  {
   "cell_type": "code",
   "execution_count": 10,
   "metadata": {},
   "outputs": [],
   "source": [
    "alpha = 1 + number_of_occurences\n",
    "beta = 1 + (NUMBER_OF_TWEETS - number_of_occurences)\n",
    "\n",
    "#valores posibles de la probabilidad verdadera subyacente quenestamos buscando\n",
    "#eje X\n",
    "x_values = np.linspace(0, 1, 1002)[1:-1]\n",
    "#se canculan los valores de y a partir de los valores de x\n",
    "pdf_y_values = beta_distribution(alpha, beta).pdf(x_values)\n",
    "#se visualiza la tupla generada anteriormente mediante la libreria grafica\n",
    "cdf_y_values = np.cumsum(pdf_y_values) / np.sum(pdf_y_values)"
   ]
  },
  {
   "cell_type": "markdown",
   "metadata": {},
   "source": [
    "### Visualizar"
   ]
  },
  {
   "cell_type": "markdown",
   "metadata": {},
   "source": [
    "![](http://i.imgur.com/mj059cS.png)"
   ]
  },
  {
   "cell_type": "code",
   "execution_count": 12,
   "metadata": {
    "scrolled": false
   },
   "outputs": [
    {
     "data": {
      "image/png": "[encoded data removed]",
      "text/plain": [
       "<matplotlib.figure.Figure at 0x10da4b2b0>"
      ]
     },
     "metadata": {},
     "output_type": "display_data"
    }
   ],
   "source": [
    "plt.figure(figsize=(18, 6))\n",
    "\n",
    "# PDF\n",
    "plt.subplot(121)\n",
    "\n",
    "plt.plot(x_values, pdf_y_values, label=(r'$\\alpha=%.1f,\\ \\beta=%.1f$' % (alpha, beta)))\n",
    "\n",
    "plt.xlim(0, 1)\n",
    "plt.xlabel('Probability of tweet containing keyword')\n",
    "plt.ylabel('Probability density')\n",
    "plt.title('Beta Distribution PDF')\n",
    "plt.legend(loc=1)\n",
    "\n",
    "\n",
    "# CDF\n",
    "plt.subplot(122)\n",
    "\n",
    "plt.plot(x_values, cdf_y_values)\n",
    "\n",
    "plt.xlim(0, 1)\n",
    "plt.ylim(0, 1.005)\n",
    "plt.yticks(np.linspace(0, 1, 21))\n",
    "plt.xlabel('Probability of tweet containing keyword')\n",
    "plt.ylabel('Cumulative probability')\n",
    "plt.title('Beta Distribution CDF')\n",
    "\n",
    "plt.show()"
   ]
  },
  {
   "cell_type": "markdown",
   "metadata": {},
   "source": [
    "# Comunicar resultados"
   ]
  },
  {
   "cell_type": "markdown",
   "metadata": {},
   "source": [
    "### Con 90% de certeza, digamos que la verdadera probabilidad:"
   ]
  },
  {
   "cell_type": "code",
   "execution_count": 13,
   "metadata": {},
   "outputs": [],
   "source": [
    "fifth_percentile = max(\n",
    "    [x_value for x_value, y_value in zip(x_values, cdf_y_values) if y_value <= .05]\n",
    ")\n",
    "\n",
    "ninety_fifth_percentile = max(\n",
    "    [x_value for x_value, y_value in zip(x_values, cdf_y_values) if y_value <= .95]\n",
    ")"
   ]
  },
  {
   "cell_type": "code",
   "execution_count": 14,
   "metadata": {},
   "outputs": [
    {
     "name": "stdout",
     "output_type": "stream",
     "text": [
      "Con 90% de certeza digamos que la verdadera probabilidad se encuentra entre: 0.025 y 0.0999\n"
     ]
    }
   ],
   "source": [
    "print('Con 90% de certeza digamos que la verdadera probabilidad se encuentra entre: {} y {}'.format(\n",
    "    round(fifth_percentile, 4), round(ninety_fifth_percentile, 4)))"
   ]
  },
  {
   "cell_type": "markdown",
   "metadata": {},
   "source": [
    "### La probabilidad que la verdadera probabilidad (de que un tweet contiene nuesta palabra clave) sea más grande de .1:"
   ]
  },
  {
   "cell_type": "code",
   "execution_count": 16,
   "metadata": {
    "collapsed": true
   },
   "outputs": [],
   "source": [
    "def compute_total_probability_that_probability_less_than_p(p):\n",
    "    return max(cumulative_prob for cumulative_prob, x_value in zip(cdf_y_values, x_values) if x_value < p)"
   ]
  },
  {
   "cell_type": "code",
   "execution_count": 17,
   "metadata": {},
   "outputs": [
    {
     "name": "stdout",
     "output_type": "stream",
     "text": [
      "La probabilidad que la verdadera probabilidad es > .1 es: 0.05283081449236815\n"
     ]
    }
   ],
   "source": [
    "print('La probabilidad que la verdadera probabilidad es > .1 es: {}'.format(\n",
    "    1 - compute_total_probability_that_probability_less_than_p(.1))\n",
    ")"
   ]
  },
  {
   "cell_type": "code",
   "execution_count": null,
   "metadata": {
    "collapsed": true
   },
   "outputs": [],
   "source": []
  }
 ],
 "metadata": {
  "kernelspec": {
   "display_name": "Python 3",
   "language": "python",
   "name": "python3"
  },
  "language_info": {
   "codemirror_mode": {
    "name": "ipython",
    "version": 3
   },
   "file_extension": ".py",
   "mimetype": "text/x-python",
   "name": "python",
   "nbconvert_exporter": "python",
   "pygments_lexer": "ipython3",
   "version": "3.4.2"
  }
 },
 "nbformat": 4,
 "nbformat_minor": 1
}
