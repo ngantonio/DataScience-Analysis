{
 "cells": [
  {
   "cell_type": "markdown",
   "metadata": {},
   "source": [
    "### Utilizamos una trama de datos sobre la popularidad de  lenguajes de programación tomados de stack overflow. \n",
    "### Aquí hay cinco lenguajes diferentes, Python, SQL, Java, C ++ y JavaScript. \n",
    "\n",
    "#### Encontraremos sus posiciones como rango usando NumPy como una función de rango. \n",
    "#### Y aquí están los valores de popularidad de desbordamiento de pila.\n",
    "\n",
    "\n",
    "### Lenguaje \t% De popularidad\n",
    "#### Python                  56\n",
    "#### SQL\t                  39\n",
    "#### Java\t                  34\n",
    "#### C++\t                  34\n",
    "#### JavaScript           29\n",
    "\n",
    "\n",
    "\n",
    "#### Crearemos un gráfico de barras según el rango y la popularidad, luego agregaremos las marcas a los ejes  x and  y. Además de establecer un título. Luego, cuando llamemos plot.show, la figura se renderizará. \n"
   ]
  },
  {
   "cell_type": "code",
   "execution_count": 1,
   "metadata": {},
   "outputs": [
    {
     "data": {
      "image/png": "[encoded data removed]",
      "text/plain": [
       "<matplotlib.figure.Figure at 0xb45c108c>"
      ]
     },
     "metadata": {},
     "output_type": "display_data"
    }
   ],
   "source": [
    "%matplotlib inline\n",
    "import matplotlib.pyplot as plt\n",
    "import numpy as np\n",
    "\n",
    "plt.figure()\n",
    "\n",
    "#creamos un array con los nombres de los lenguajes\n",
    "languages =['Python', 'SQL', 'Java', 'C++', 'JavaScript']\n",
    "\n",
    "#creamos un array de n numeros consecutivos partiendo desde el 0,\n",
    "#N es el tamaño del arreglo de lenguajes\n",
    "pos = np.arange(len(languages))\n",
    "\n",
    "#creamos el array de popularidad de los lenguajes, correspondiente al array de lenguajes\n",
    "popularity = [56, 39, 34, 34, 29]\n",
    "\n",
    "# Creamos el grafico de barras, con el array de numeros para el eje X, (0 al 4)\n",
    "# el array de popularidad para el eje Y, y hacemos que als barras se centren al numero\n",
    "# en X que les corresponde..\n",
    "\n",
    "#Esto generará una relacion entre i / popularidad, donde i es un numero entero que corersponde \n",
    "#a cada lenguaje\n",
    "plt.bar(pos, popularity, align='center')\n",
    "plt.show()"
   ]
  },
  {
   "cell_type": "markdown",
   "metadata": {},
   "source": [
    "#### Aquí está el primer desafío. \n",
    "##### Los tics a lo largo de ambos ejes son molestos y una especie de desorden en el documento.  Y las etiquetas en el eje “y” realmente deberían ser directas. Así que vamos a eliminar todos estos\n"
   ]
  },
  {
   "cell_type": "code",
   "execution_count": 2,
   "metadata": {},
   "outputs": [
    {
     "name": "stderr",
     "output_type": "stream",
     "text": [
      "C:\\Users\\Anaconda3\\lib\\site-packages\\matplotlib\\cbook\\deprecation.py:107: MatplotlibDeprecationWarning: Passing one of 'on', 'true', 'off', 'false' as a boolean is deprecated; use an actual boolean (True/False) instead.\n",
      "  warnings.warn(message, mplDeprecation, stacklevel=1)\n"
     ]
    }
   ],
   "source": [
    "# Es hora de establecer las etiquetas...\n",
    "\n",
    "# con esta funcion, establecemos las etiquetas de cada valor del eje X, de esta forma creamos una relacion\n",
    "# entre los indices del array pos, y el array de languajes, para que se muestren estos ultimos\n",
    "# en lugar de los numeros\n",
    "plt.xticks(pos, languages)\n",
    "\n",
    "#establecemos la etiqueta del eye Y\n",
    "plt.ylabel('% Popularity')\n",
    "\n",
    "#Establecemos un titulo\n",
    "plt.title('Top 5 Languages for Math & Data \\nby % popularity on Stack Overflow', \n",
    "  alpha=0.8)\n",
    "\n",
    "# Elimina todas las marcas de los laterales (los ticks) en ambos ejes etiquetas en el eje Y\n",
    "plt.tick_params(top='off', bottom='off', left='off', right='off', labelleft\n",
    "  ='off', labelbottom='on')\n",
    "\n",
    "plt.show()\n"
   ]
  },
  {
   "cell_type": "code",
   "execution_count": 3,
   "metadata": {},
   "outputs": [],
   "source": [
    "#Quitaremos el marco del grafico...\n",
    "#con plt.gca.spines.values() obtenemos cada linea\n",
    "for spine in plt.gca().spines.values():\n",
    "    spine.set_visible(False)\n",
    "plt.show()\n",
    "\n",
    "#Esto es un poco más complicado, pero podemos obtener el eje actual, \n",
    "#luego iterar a través de toda la columna vertebral, estableciendo su visibilidad en falso. \n",
    "#Ya, este gráfico parece mucho más ligero. "
   ]
  },
  {
   "cell_type": "markdown",
   "metadata": {},
   "source": [
    "#### Ahora, el azul está bien, pero en realidad no nos ayuda a diferenciar entre las barras en absoluto. \n",
    "#### ¿Qué tal si ablandamos todos los negros duros a gris, luego cambiamos los colores de la barra a gris \n",
    "#### también. Además, mantengamos la barra de Python del mismo color azul que Fue originalmente para que se destaque."
   ]
  },
  {
   "cell_type": "code",
   "execution_count": 4,
   "metadata": {},
   "outputs": [],
   "source": [
    "\n",
    "# Obtenemos las barras como un array de objetos, y configuramos su diseño y color, cambiandolas todas a gris\n",
    "bars = plt.bar(pos, popularity, align='center', linewidth=0, color='lightslategrey')\n",
    "\n",
    "# tomamos la primera barra, que es la de python y la colocamos en azul para hacerla resaltar\n",
    "bars[0].set_color('#1F77B4')\n",
    "\n",
    "# suavizando todas las etiquetas de x and y girando gris\n",
    "plt.xticks(pos, languages, alpha=0.8)\n",
    "plt.ylabel('% Popularity', alpha=0.8)\n",
    "\n",
    "#Bien, hay varias maneras diferentes en hubiesemos podido hacer esto. \n",
    "#La forma que elegí fue agregar un parámetro alfa a todo, \n",
    "#lo que añade un poco de transparencia y suaviza los colores un poco. \n",
    "\n",
    "#También puse las barras en un color gris neutro y luego elegí un bonito \n",
    "#azul del sitio web de Python para acentuar la primera barra.\n",
    "plt.show()"
   ]
  },
  {
   "cell_type": "markdown",
   "metadata": {},
   "source": [
    "#### Por supuesto, ahora hemos hecho que el gráfico sea un poco menos preciso. Ahora ya no tenemos ninguna etiqueta y. Vamos a arreglar esto y eliminar la etiqueta del eje y, simplemente etiquetar directamente las barras individuales.\n",
    "\n",
    "#### Realmente no necesitamos la etiqueta del eje y, ya que el título dice todo lo que necesitamos saber sobre las unidades en este cuadro.\n",
    "\n",
    "#### Quitar la etiqueta es fácil, pero cambiar las barras es un poco molesto. \n",
    "\n",
    "#### Para esto queremos iterar sobre cada una de las barras y tomar su altura, luego queremos crear un nuevo objeto de texto con la información de datos.\n"
   ]
  },
  {
   "cell_type": "code",
   "execution_count": 12,
   "metadata": {},
   "outputs": [],
   "source": [
    "plt.ylabel(' ')\n",
    "#iteramos sobre el array de las barras y para cada barra\n",
    "# Aquí configuraré la ubicación x, en la barra x más el ancho dividido por dos \n",
    "# y la ubicacion del porcentaje en el eje y será la altura de la barra menos cinco. (la posicion, si mas arriba o mas abajo)\n",
    "for bar in bars:\n",
    "    plt.gca().text(bar.get_x() + bar.get_width()/2, bar.get_height() - 5, str(int(bar.get_height())) + '%', \n",
    "                 ha='center', color='w', fontsize=11)\n",
    "    \n",
    "#Puede parecer extraño obtener la mitad de la barra en la dimensión x,\n",
    "#pero eso es porque estoy poniendo la etiqueta para centrarse, horizontalmente."
   ]
  },
  {
   "cell_type": "code",
   "execution_count": null,
   "metadata": {
    "collapsed": true
   },
   "outputs": [],
   "source": []
  }
 ],
 "metadata": {
  "kernelspec": {
   "display_name": "Python 3",
   "language": "python",
   "name": "python3"
  },
  "language_info": {
   "codemirror_mode": {
    "name": "ipython",
    "version": 3
   },
   "file_extension": ".py",
   "mimetype": "text/x-python",
   "name": "python",
   "nbconvert_exporter": "python",
   "pygments_lexer": "ipython3",
   "version": "3.4.2"
  }
 },
 "nbformat": 4,
 "nbformat_minor": 1
}
